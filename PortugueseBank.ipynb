{
 "cells": [
  {
   "cell_type": "code",
   "execution_count": 154,
   "id": "dc05a247",
   "metadata": {},
   "outputs": [],
   "source": [
    "import pandas as pd\n",
    "import matplotlib.pyplot as plt\n",
    "from sklearn.linear_model import LogisticRegression\n",
    "import pandas as pd\n",
    "import matplotlib.pyplot as plt\n",
    "from sklearn.model_selection import train_test_split\n",
    "from sklearn.metrics import classification_report, plot_confusion_matrix, mean_squared_error\n",
    "from sklearn.model_selection import GridSearchCV\n",
    "import numpy as np\n",
    "from sklearn.tree import DecisionTreeClassifier\n",
    "from sklearn.neighbors import KNeighborsClassifier\n",
    "from sklearn.svm import SVC\n",
    "from sklearn.feature_selection import SequentialFeatureSelector\n",
    "from sklearn.linear_model import LinearRegression\n",
    "from sklearn.preprocessing import PolynomialFeatures\n",
    "from sklearn.pipeline import Pipeline\n",
    "from imblearn.over_sampling import SMOTE"
   ]
  },
  {
   "cell_type": "code",
   "execution_count": 155,
   "id": "9335df3d",
   "metadata": {},
   "outputs": [],
   "source": [
    "bank = pd.read_csv('bank/bank.csv', sep=';')"
   ]
  },
  {
   "cell_type": "code",
   "execution_count": 156,
   "id": "a862c7dc",
   "metadata": {},
   "outputs": [
    {
     "data": {
      "text/html": [
       "<div>\n",
       "<style scoped>\n",
       "    .dataframe tbody tr th:only-of-type {\n",
       "        vertical-align: middle;\n",
       "    }\n",
       "\n",
       "    .dataframe tbody tr th {\n",
       "        vertical-align: top;\n",
       "    }\n",
       "\n",
       "    .dataframe thead th {\n",
       "        text-align: right;\n",
       "    }\n",
       "</style>\n",
       "<table border=\"1\" class=\"dataframe\">\n",
       "  <thead>\n",
       "    <tr style=\"text-align: right;\">\n",
       "      <th></th>\n",
       "      <th>age</th>\n",
       "      <th>job</th>\n",
       "      <th>marital</th>\n",
       "      <th>education</th>\n",
       "      <th>default</th>\n",
       "      <th>balance</th>\n",
       "      <th>housing</th>\n",
       "      <th>loan</th>\n",
       "      <th>contact</th>\n",
       "      <th>day</th>\n",
       "      <th>month</th>\n",
       "      <th>duration</th>\n",
       "      <th>campaign</th>\n",
       "      <th>pdays</th>\n",
       "      <th>previous</th>\n",
       "      <th>poutcome</th>\n",
       "      <th>y</th>\n",
       "    </tr>\n",
       "  </thead>\n",
       "  <tbody>\n",
       "    <tr>\n",
       "      <th>0</th>\n",
       "      <td>30</td>\n",
       "      <td>unemployed</td>\n",
       "      <td>married</td>\n",
       "      <td>primary</td>\n",
       "      <td>no</td>\n",
       "      <td>1787</td>\n",
       "      <td>no</td>\n",
       "      <td>no</td>\n",
       "      <td>cellular</td>\n",
       "      <td>19</td>\n",
       "      <td>oct</td>\n",
       "      <td>79</td>\n",
       "      <td>1</td>\n",
       "      <td>-1</td>\n",
       "      <td>0</td>\n",
       "      <td>unknown</td>\n",
       "      <td>no</td>\n",
       "    </tr>\n",
       "    <tr>\n",
       "      <th>1</th>\n",
       "      <td>33</td>\n",
       "      <td>services</td>\n",
       "      <td>married</td>\n",
       "      <td>secondary</td>\n",
       "      <td>no</td>\n",
       "      <td>4789</td>\n",
       "      <td>yes</td>\n",
       "      <td>yes</td>\n",
       "      <td>cellular</td>\n",
       "      <td>11</td>\n",
       "      <td>may</td>\n",
       "      <td>220</td>\n",
       "      <td>1</td>\n",
       "      <td>339</td>\n",
       "      <td>4</td>\n",
       "      <td>failure</td>\n",
       "      <td>no</td>\n",
       "    </tr>\n",
       "    <tr>\n",
       "      <th>2</th>\n",
       "      <td>35</td>\n",
       "      <td>management</td>\n",
       "      <td>single</td>\n",
       "      <td>tertiary</td>\n",
       "      <td>no</td>\n",
       "      <td>1350</td>\n",
       "      <td>yes</td>\n",
       "      <td>no</td>\n",
       "      <td>cellular</td>\n",
       "      <td>16</td>\n",
       "      <td>apr</td>\n",
       "      <td>185</td>\n",
       "      <td>1</td>\n",
       "      <td>330</td>\n",
       "      <td>1</td>\n",
       "      <td>failure</td>\n",
       "      <td>no</td>\n",
       "    </tr>\n",
       "    <tr>\n",
       "      <th>3</th>\n",
       "      <td>30</td>\n",
       "      <td>management</td>\n",
       "      <td>married</td>\n",
       "      <td>tertiary</td>\n",
       "      <td>no</td>\n",
       "      <td>1476</td>\n",
       "      <td>yes</td>\n",
       "      <td>yes</td>\n",
       "      <td>unknown</td>\n",
       "      <td>3</td>\n",
       "      <td>jun</td>\n",
       "      <td>199</td>\n",
       "      <td>4</td>\n",
       "      <td>-1</td>\n",
       "      <td>0</td>\n",
       "      <td>unknown</td>\n",
       "      <td>no</td>\n",
       "    </tr>\n",
       "    <tr>\n",
       "      <th>4</th>\n",
       "      <td>59</td>\n",
       "      <td>blue-collar</td>\n",
       "      <td>married</td>\n",
       "      <td>secondary</td>\n",
       "      <td>no</td>\n",
       "      <td>0</td>\n",
       "      <td>yes</td>\n",
       "      <td>no</td>\n",
       "      <td>unknown</td>\n",
       "      <td>5</td>\n",
       "      <td>may</td>\n",
       "      <td>226</td>\n",
       "      <td>1</td>\n",
       "      <td>-1</td>\n",
       "      <td>0</td>\n",
       "      <td>unknown</td>\n",
       "      <td>no</td>\n",
       "    </tr>\n",
       "  </tbody>\n",
       "</table>\n",
       "</div>"
      ],
      "text/plain": [
       "   age          job  marital  education default  balance housing loan  \\\n",
       "0   30   unemployed  married    primary      no     1787      no   no   \n",
       "1   33     services  married  secondary      no     4789     yes  yes   \n",
       "2   35   management   single   tertiary      no     1350     yes   no   \n",
       "3   30   management  married   tertiary      no     1476     yes  yes   \n",
       "4   59  blue-collar  married  secondary      no        0     yes   no   \n",
       "\n",
       "    contact  day month  duration  campaign  pdays  previous poutcome   y  \n",
       "0  cellular   19   oct        79         1     -1         0  unknown  no  \n",
       "1  cellular   11   may       220         1    339         4  failure  no  \n",
       "2  cellular   16   apr       185         1    330         1  failure  no  \n",
       "3   unknown    3   jun       199         4     -1         0  unknown  no  \n",
       "4   unknown    5   may       226         1     -1         0  unknown  no  "
      ]
     },
     "execution_count": 156,
     "metadata": {},
     "output_type": "execute_result"
    }
   ],
   "source": [
    "bank.head()"
   ]
  },
  {
   "cell_type": "code",
   "execution_count": 157,
   "id": "cd1ed5c9",
   "metadata": {},
   "outputs": [
    {
     "name": "stdout",
     "output_type": "stream",
     "text": [
      "<class 'pandas.core.frame.DataFrame'>\n",
      "RangeIndex: 4521 entries, 0 to 4520\n",
      "Data columns (total 17 columns):\n",
      " #   Column     Non-Null Count  Dtype \n",
      "---  ------     --------------  ----- \n",
      " 0   age        4521 non-null   int64 \n",
      " 1   job        4521 non-null   object\n",
      " 2   marital    4521 non-null   object\n",
      " 3   education  4521 non-null   object\n",
      " 4   default    4521 non-null   object\n",
      " 5   balance    4521 non-null   int64 \n",
      " 6   housing    4521 non-null   object\n",
      " 7   loan       4521 non-null   object\n",
      " 8   contact    4521 non-null   object\n",
      " 9   day        4521 non-null   int64 \n",
      " 10  month      4521 non-null   object\n",
      " 11  duration   4521 non-null   int64 \n",
      " 12  campaign   4521 non-null   int64 \n",
      " 13  pdays      4521 non-null   int64 \n",
      " 14  previous   4521 non-null   int64 \n",
      " 15  poutcome   4521 non-null   object\n",
      " 16  y          4521 non-null   object\n",
      "dtypes: int64(7), object(10)\n",
      "memory usage: 600.6+ KB\n"
     ]
    }
   ],
   "source": [
    "bank.info()"
   ]
  },
  {
   "cell_type": "code",
   "execution_count": 158,
   "id": "bf5951ed",
   "metadata": {},
   "outputs": [],
   "source": [
    "bank = pd.read_csv('bank/bank.csv', sep=';')"
   ]
  },
  {
   "cell_type": "code",
   "execution_count": 159,
   "id": "a473cb8f",
   "metadata": {},
   "outputs": [
    {
     "data": {
      "text/html": [
       "<div>\n",
       "<style scoped>\n",
       "    .dataframe tbody tr th:only-of-type {\n",
       "        vertical-align: middle;\n",
       "    }\n",
       "\n",
       "    .dataframe tbody tr th {\n",
       "        vertical-align: top;\n",
       "    }\n",
       "\n",
       "    .dataframe thead th {\n",
       "        text-align: right;\n",
       "    }\n",
       "</style>\n",
       "<table border=\"1\" class=\"dataframe\">\n",
       "  <thead>\n",
       "    <tr style=\"text-align: right;\">\n",
       "      <th></th>\n",
       "      <th>age</th>\n",
       "      <th>job</th>\n",
       "      <th>marital</th>\n",
       "      <th>education</th>\n",
       "      <th>default</th>\n",
       "      <th>balance</th>\n",
       "      <th>housing</th>\n",
       "      <th>loan</th>\n",
       "      <th>contact</th>\n",
       "      <th>day</th>\n",
       "      <th>month</th>\n",
       "      <th>duration</th>\n",
       "      <th>campaign</th>\n",
       "      <th>pdays</th>\n",
       "      <th>previous</th>\n",
       "      <th>poutcome</th>\n",
       "      <th>y</th>\n",
       "    </tr>\n",
       "  </thead>\n",
       "  <tbody>\n",
       "    <tr>\n",
       "      <th>0</th>\n",
       "      <td>30</td>\n",
       "      <td>unemployed</td>\n",
       "      <td>married</td>\n",
       "      <td>primary</td>\n",
       "      <td>no</td>\n",
       "      <td>1787</td>\n",
       "      <td>no</td>\n",
       "      <td>no</td>\n",
       "      <td>cellular</td>\n",
       "      <td>19</td>\n",
       "      <td>oct</td>\n",
       "      <td>79</td>\n",
       "      <td>1</td>\n",
       "      <td>-1</td>\n",
       "      <td>0</td>\n",
       "      <td>unknown</td>\n",
       "      <td>no</td>\n",
       "    </tr>\n",
       "    <tr>\n",
       "      <th>1</th>\n",
       "      <td>33</td>\n",
       "      <td>services</td>\n",
       "      <td>married</td>\n",
       "      <td>secondary</td>\n",
       "      <td>no</td>\n",
       "      <td>4789</td>\n",
       "      <td>yes</td>\n",
       "      <td>yes</td>\n",
       "      <td>cellular</td>\n",
       "      <td>11</td>\n",
       "      <td>may</td>\n",
       "      <td>220</td>\n",
       "      <td>1</td>\n",
       "      <td>339</td>\n",
       "      <td>4</td>\n",
       "      <td>failure</td>\n",
       "      <td>no</td>\n",
       "    </tr>\n",
       "  </tbody>\n",
       "</table>\n",
       "</div>"
      ],
      "text/plain": [
       "   age         job  marital  education default  balance housing loan  \\\n",
       "0   30  unemployed  married    primary      no     1787      no   no   \n",
       "1   33    services  married  secondary      no     4789     yes  yes   \n",
       "\n",
       "    contact  day month  duration  campaign  pdays  previous poutcome   y  \n",
       "0  cellular   19   oct        79         1     -1         0  unknown  no  \n",
       "1  cellular   11   may       220         1    339         4  failure  no  "
      ]
     },
     "execution_count": 159,
     "metadata": {},
     "output_type": "execute_result"
    }
   ],
   "source": [
    "bank.head(2)"
   ]
  },
  {
   "cell_type": "code",
   "execution_count": 162,
   "id": "d214898e",
   "metadata": {},
   "outputs": [],
   "source": [
    "X = bank[['age', 'balance', 'day', 'duration', 'campaign', 'pdays', 'previous']]\n",
    "y = np.where(bank.y == 'yes', 1, 0)"
   ]
  },
  {
   "cell_type": "code",
   "execution_count": 163,
   "id": "9462d365",
   "metadata": {},
   "outputs": [
    {
     "data": {
      "text/html": [
       "<div>\n",
       "<style scoped>\n",
       "    .dataframe tbody tr th:only-of-type {\n",
       "        vertical-align: middle;\n",
       "    }\n",
       "\n",
       "    .dataframe tbody tr th {\n",
       "        vertical-align: top;\n",
       "    }\n",
       "\n",
       "    .dataframe thead th {\n",
       "        text-align: right;\n",
       "    }\n",
       "</style>\n",
       "<table border=\"1\" class=\"dataframe\">\n",
       "  <thead>\n",
       "    <tr style=\"text-align: right;\">\n",
       "      <th></th>\n",
       "      <th>age</th>\n",
       "      <th>balance</th>\n",
       "      <th>day</th>\n",
       "      <th>duration</th>\n",
       "      <th>campaign</th>\n",
       "      <th>pdays</th>\n",
       "      <th>previous</th>\n",
       "    </tr>\n",
       "  </thead>\n",
       "  <tbody>\n",
       "    <tr>\n",
       "      <th>age</th>\n",
       "      <td>1.000000</td>\n",
       "      <td>0.083820</td>\n",
       "      <td>-0.017853</td>\n",
       "      <td>-0.002367</td>\n",
       "      <td>-0.005148</td>\n",
       "      <td>-0.008894</td>\n",
       "      <td>-0.003511</td>\n",
       "    </tr>\n",
       "    <tr>\n",
       "      <th>balance</th>\n",
       "      <td>0.083820</td>\n",
       "      <td>1.000000</td>\n",
       "      <td>-0.008677</td>\n",
       "      <td>-0.015950</td>\n",
       "      <td>-0.009976</td>\n",
       "      <td>0.009437</td>\n",
       "      <td>0.026196</td>\n",
       "    </tr>\n",
       "    <tr>\n",
       "      <th>day</th>\n",
       "      <td>-0.017853</td>\n",
       "      <td>-0.008677</td>\n",
       "      <td>1.000000</td>\n",
       "      <td>-0.024629</td>\n",
       "      <td>0.160706</td>\n",
       "      <td>-0.094352</td>\n",
       "      <td>-0.059114</td>\n",
       "    </tr>\n",
       "    <tr>\n",
       "      <th>duration</th>\n",
       "      <td>-0.002367</td>\n",
       "      <td>-0.015950</td>\n",
       "      <td>-0.024629</td>\n",
       "      <td>1.000000</td>\n",
       "      <td>-0.068382</td>\n",
       "      <td>0.010380</td>\n",
       "      <td>0.018080</td>\n",
       "    </tr>\n",
       "    <tr>\n",
       "      <th>campaign</th>\n",
       "      <td>-0.005148</td>\n",
       "      <td>-0.009976</td>\n",
       "      <td>0.160706</td>\n",
       "      <td>-0.068382</td>\n",
       "      <td>1.000000</td>\n",
       "      <td>-0.093137</td>\n",
       "      <td>-0.067833</td>\n",
       "    </tr>\n",
       "    <tr>\n",
       "      <th>pdays</th>\n",
       "      <td>-0.008894</td>\n",
       "      <td>0.009437</td>\n",
       "      <td>-0.094352</td>\n",
       "      <td>0.010380</td>\n",
       "      <td>-0.093137</td>\n",
       "      <td>1.000000</td>\n",
       "      <td>0.577562</td>\n",
       "    </tr>\n",
       "    <tr>\n",
       "      <th>previous</th>\n",
       "      <td>-0.003511</td>\n",
       "      <td>0.026196</td>\n",
       "      <td>-0.059114</td>\n",
       "      <td>0.018080</td>\n",
       "      <td>-0.067833</td>\n",
       "      <td>0.577562</td>\n",
       "      <td>1.000000</td>\n",
       "    </tr>\n",
       "  </tbody>\n",
       "</table>\n",
       "</div>"
      ],
      "text/plain": [
       "               age   balance       day  duration  campaign     pdays  previous\n",
       "age       1.000000  0.083820 -0.017853 -0.002367 -0.005148 -0.008894 -0.003511\n",
       "balance   0.083820  1.000000 -0.008677 -0.015950 -0.009976  0.009437  0.026196\n",
       "day      -0.017853 -0.008677  1.000000 -0.024629  0.160706 -0.094352 -0.059114\n",
       "duration -0.002367 -0.015950 -0.024629  1.000000 -0.068382  0.010380  0.018080\n",
       "campaign -0.005148 -0.009976  0.160706 -0.068382  1.000000 -0.093137 -0.067833\n",
       "pdays    -0.008894  0.009437 -0.094352  0.010380 -0.093137  1.000000  0.577562\n",
       "previous -0.003511  0.026196 -0.059114  0.018080 -0.067833  0.577562  1.000000"
      ]
     },
     "execution_count": 163,
     "metadata": {},
     "output_type": "execute_result"
    }
   ],
   "source": [
    "X.corr()"
   ]
  },
  {
   "cell_type": "code",
   "execution_count": 139,
   "id": "46102ca2",
   "metadata": {},
   "outputs": [],
   "source": [
    "X_train, X_test, y_train, y_test = train_test_split(X, y, random_state=42, test_size = 0.25)"
   ]
  },
  {
   "cell_type": "code",
   "execution_count": 140,
   "id": "a23e520c",
   "metadata": {},
   "outputs": [
    {
     "data": {
      "text/html": [
       "<div>\n",
       "<style scoped>\n",
       "    .dataframe tbody tr th:only-of-type {\n",
       "        vertical-align: middle;\n",
       "    }\n",
       "\n",
       "    .dataframe tbody tr th {\n",
       "        vertical-align: top;\n",
       "    }\n",
       "\n",
       "    .dataframe thead th {\n",
       "        text-align: right;\n",
       "    }\n",
       "</style>\n",
       "<table border=\"1\" class=\"dataframe\">\n",
       "  <thead>\n",
       "    <tr style=\"text-align: right;\">\n",
       "      <th></th>\n",
       "      <th>age</th>\n",
       "      <th>balance</th>\n",
       "      <th>day</th>\n",
       "      <th>duration</th>\n",
       "      <th>campaign</th>\n",
       "      <th>pdays</th>\n",
       "      <th>previous</th>\n",
       "    </tr>\n",
       "  </thead>\n",
       "  <tbody>\n",
       "    <tr>\n",
       "      <th>1412</th>\n",
       "      <td>57</td>\n",
       "      <td>4012</td>\n",
       "      <td>20</td>\n",
       "      <td>915</td>\n",
       "      <td>1</td>\n",
       "      <td>-1</td>\n",
       "      <td>0</td>\n",
       "    </tr>\n",
       "    <tr>\n",
       "      <th>2117</th>\n",
       "      <td>40</td>\n",
       "      <td>1832</td>\n",
       "      <td>6</td>\n",
       "      <td>213</td>\n",
       "      <td>4</td>\n",
       "      <td>-1</td>\n",
       "      <td>0</td>\n",
       "    </tr>\n",
       "  </tbody>\n",
       "</table>\n",
       "</div>"
      ],
      "text/plain": [
       "      age  balance  day  duration  campaign  pdays  previous\n",
       "1412   57     4012   20       915         1     -1         0\n",
       "2117   40     1832    6       213         4     -1         0"
      ]
     },
     "execution_count": 140,
     "metadata": {},
     "output_type": "execute_result"
    }
   ],
   "source": [
    "X_train.head(2)"
   ]
  },
  {
   "cell_type": "markdown",
   "id": "99d9c01f",
   "metadata": {},
   "source": [
    "**Logistic Regression**"
   ]
  },
  {
   "cell_type": "code",
   "execution_count": 141,
   "id": "8f731343",
   "metadata": {},
   "outputs": [
    {
     "name": "stderr",
     "output_type": "stream",
     "text": [
      "D:\\ProgramData\\Anaconda3\\lib\\site-packages\\sklearn\\linear_model\\_logistic.py:444: ConvergenceWarning: lbfgs failed to converge (status=1):\n",
      "STOP: TOTAL NO. of ITERATIONS REACHED LIMIT.\n",
      "\n",
      "Increase the number of iterations (max_iter) or scale the data as shown in:\n",
      "    https://scikit-learn.org/stable/modules/preprocessing.html\n",
      "Please also refer to the documentation for alternative solver options:\n",
      "    https://scikit-learn.org/stable/modules/linear_model.html#logistic-regression\n",
      "  n_iter_i = _check_optimize_result(\n"
     ]
    }
   ],
   "source": [
    "logreg = LogisticRegression(random_state=42, class_weight='balanced').fit(X_train, y_train)"
   ]
  },
  {
   "cell_type": "code",
   "execution_count": 142,
   "id": "e5f5949f",
   "metadata": {},
   "outputs": [
    {
     "name": "stdout",
     "output_type": "stream",
     "text": [
      "Classification report for balanced classes \n",
      "               precision    recall  f1-score   support\n",
      "\n",
      "           0       0.96      0.76      0.85      1006\n",
      "           1       0.28      0.76      0.41       125\n",
      "\n",
      "    accuracy                           0.76      1131\n",
      "   macro avg       0.62      0.76      0.63      1131\n",
      "weighted avg       0.89      0.76      0.80      1131\n",
      "\n",
      "Train MSE: 0.2424778761061947\n",
      "Test MSE: 0.23784261715296198\n"
     ]
    }
   ],
   "source": [
    "train_preds = logreg.predict(X_train)\n",
    "test_preds = logreg.predict(X_test)\n",
    "\n",
    "print('Classification report for balanced classes \\n',classification_report(y_test,test_preds))\n",
    "\n",
    "test_mse = mean_squared_error(test_preds, y_test)\n",
    "train_mse = mean_squared_error(train_preds, y_train)\n",
    "print(\"Train MSE:\", train_mse)\n",
    "print(\"Test MSE:\", test_mse)"
   ]
  },
  {
   "cell_type": "code",
   "execution_count": 143,
   "id": "b9163792",
   "metadata": {},
   "outputs": [
    {
     "data": {
      "text/plain": [
       "{'C': 1.0,\n",
       " 'class_weight': 'balanced',\n",
       " 'dual': False,\n",
       " 'fit_intercept': True,\n",
       " 'intercept_scaling': 1,\n",
       " 'l1_ratio': None,\n",
       " 'max_iter': 100,\n",
       " 'multi_class': 'auto',\n",
       " 'n_jobs': None,\n",
       " 'penalty': 'l2',\n",
       " 'random_state': 42,\n",
       " 'solver': 'lbfgs',\n",
       " 'tol': 0.0001,\n",
       " 'verbose': 0,\n",
       " 'warm_start': False}"
      ]
     },
     "execution_count": 143,
     "metadata": {},
     "output_type": "execute_result"
    }
   ],
   "source": [
    "logreg.get_params()"
   ]
  },
  {
   "cell_type": "code",
   "execution_count": 144,
   "id": "86be0988",
   "metadata": {},
   "outputs": [
    {
     "name": "stderr",
     "output_type": "stream",
     "text": [
      "D:\\ProgramData\\Anaconda3\\lib\\site-packages\\sklearn\\utils\\deprecation.py:87: FutureWarning: Function plot_confusion_matrix is deprecated; Function `plot_confusion_matrix` is deprecated in 1.0 and will be removed in 1.2. Use one of the class methods: ConfusionMatrixDisplay.from_predictions or ConfusionMatrixDisplay.from_estimator.\n",
      "  warnings.warn(msg, category=FutureWarning)\n"
     ]
    },
    {
     "data": {
      "text/plain": [
       "<sklearn.metrics._plot.confusion_matrix.ConfusionMatrixDisplay at 0x211e72dd040>"
      ]
     },
     "execution_count": 144,
     "metadata": {},
     "output_type": "execute_result"
    },
    {
     "data": {
      "image/png": "[encoded data removed]",
      "text/plain": [
       "<Figure size 432x288 with 2 Axes>"
      ]
     },
     "metadata": {
      "needs_background": "light"
     },
     "output_type": "display_data"
    }
   ],
   "source": [
    "plot_confusion_matrix(logreg,X_test,y_test)"
   ]
  },
  {
   "cell_type": "code",
   "execution_count": 107,
   "id": "e9361eb1",
   "metadata": {},
   "outputs": [
    {
     "name": "stdout",
     "output_type": "stream",
     "text": [
      "76.216\n"
     ]
    },
    {
     "data": {
      "text/plain": [
       "0.762157382847038"
      ]
     },
     "execution_count": 107,
     "metadata": {},
     "output_type": "execute_result"
    }
   ],
   "source": [
    "logistic_score_test = logreg.score(X_test, y_test)\n",
    "print(\"{:.3f}\".format(logistic_score_test*100))\n",
    "logistic_score_test"
   ]
  },
  {
   "cell_type": "code",
   "execution_count": 108,
   "id": "b5045f76",
   "metadata": {},
   "outputs": [
    {
     "name": "stdout",
     "output_type": "stream",
     "text": [
      "Mean Fit Time:  0.1862715721130371\n",
      "LogReg Train Score: 0.7545722713864307\n",
      "LogReg Test Score: 0.7559681697612732\n",
      " \n",
      "Accuracy = \t 76.2157382847\n",
      "Precision = \t 28.4431137725\n",
      "Recall = \t 76.0000000000\n",
      "Specificity = \t 76.2425447316\n",
      " \n",
      "Train MSE: 0.2424778761061947\n",
      "Test MSE: 0.23784261715296198\n"
     ]
    },
    {
     "name": "stderr",
     "output_type": "stream",
     "text": [
      "D:\\ProgramData\\Anaconda3\\lib\\site-packages\\sklearn\\linear_model\\_logistic.py:444: ConvergenceWarning: lbfgs failed to converge (status=1):\n",
      "STOP: TOTAL NO. of ITERATIONS REACHED LIMIT.\n",
      "\n",
      "Increase the number of iterations (max_iter) or scale the data as shown in:\n",
      "    https://scikit-learn.org/stable/modules/preprocessing.html\n",
      "Please also refer to the documentation for alternative solver options:\n",
      "    https://scikit-learn.org/stable/modules/linear_model.html#logistic-regression\n",
      "  n_iter_i = _check_optimize_result(\n"
     ]
    }
   ],
   "source": [
    "solvers = ['newton-cg', 'lbfgs', 'liblinear']\n",
    "solvers = ['lbfgs']\n",
    "\n",
    "penalty = ['l2']\n",
    "c_values = [10, 1.0, 0.1, 0.01]\n",
    "grid = dict(solver=solvers,penalty=penalty,C=c_values)\n",
    "\n",
    "logreg_grid = GridSearchCV(logreg, param_grid=grid, n_jobs=-1, scoring='accuracy',error_score=0).fit(X_train, y_train)\n",
    "logreg_cv_res = logreg_grid.cv_results_\n",
    "\n",
    "logreg_mean_fit_time = logreg_cv_res['mean_fit_time'][0]\n",
    "\n",
    "print(\"Mean Fit Time: \", logreg_mean_fit_time)\n",
    "\n",
    "logreg_grid_score_train = logreg_grid.score(X_train, y_train)\n",
    "logreg_grid_score_test = logreg_grid.score(X_test, y_test)\n",
    "print(\"LogReg Train Score:\", logreg_grid_score_train)\n",
    "print(\"LogReg Test Score:\", logreg_grid_score_test)\n",
    "print(\" \")\n",
    "\n",
    "logreg_acc = (767+95)/(767+239+30+95)*100\n",
    "logreg_pre = (95)/(239+95)*100\n",
    "logreg_rec = (95)/(95+30)*100\n",
    "logreg_spe = (767)/(767+239)*100\n",
    "\n",
    "print(\"Accuracy = \\t\", \"{:.10f}\".format(logreg_acc))\n",
    "print(\"Precision = \\t\", \"{:.10f}\".format(logreg_pre))\n",
    "print(\"Recall = \\t\", \"{:.10f}\".format(logreg_rec))\n",
    "print(\"Specificity = \\t\", \"{:.10f}\".format(logreg_spe))\n",
    "print(\" \")\n",
    "print(\"Train MSE:\", train_mse)\n",
    "print(\"Test MSE:\", test_mse)"
   ]
  },
  {
   "cell_type": "code",
   "execution_count": 166,
   "id": "9cca3279",
   "metadata": {},
   "outputs": [
    {
     "data": {
      "text/html": [
       "<div>\n",
       "<style scoped>\n",
       "    .dataframe tbody tr th:only-of-type {\n",
       "        vertical-align: middle;\n",
       "    }\n",
       "\n",
       "    .dataframe tbody tr th {\n",
       "        vertical-align: top;\n",
       "    }\n",
       "\n",
       "    .dataframe thead th {\n",
       "        text-align: right;\n",
       "    }\n",
       "</style>\n",
       "<table border=\"1\" class=\"dataframe\">\n",
       "  <thead>\n",
       "    <tr style=\"text-align: right;\">\n",
       "      <th></th>\n",
       "      <th>Variable</th>\n",
       "      <th>Score</th>\n",
       "    </tr>\n",
       "  </thead>\n",
       "  <tbody>\n",
       "    <tr>\n",
       "      <th>3</th>\n",
       "      <td>duration</td>\n",
       "      <td>0.072414</td>\n",
       "    </tr>\n",
       "    <tr>\n",
       "      <th>6</th>\n",
       "      <td>previous</td>\n",
       "      <td>0.007781</td>\n",
       "    </tr>\n",
       "    <tr>\n",
       "      <th>2</th>\n",
       "      <td>day</td>\n",
       "      <td>0.004332</td>\n",
       "    </tr>\n",
       "    <tr>\n",
       "      <th>5</th>\n",
       "      <td>pdays</td>\n",
       "      <td>0.003183</td>\n",
       "    </tr>\n",
       "    <tr>\n",
       "      <th>1</th>\n",
       "      <td>balance</td>\n",
       "      <td>-0.001415</td>\n",
       "    </tr>\n",
       "    <tr>\n",
       "      <th>0</th>\n",
       "      <td>age</td>\n",
       "      <td>-0.002299</td>\n",
       "    </tr>\n",
       "    <tr>\n",
       "      <th>4</th>\n",
       "      <td>campaign</td>\n",
       "      <td>-0.003802</td>\n",
       "    </tr>\n",
       "  </tbody>\n",
       "</table>\n",
       "</div>"
      ],
      "text/plain": [
       "   Variable     Score\n",
       "3  duration  0.072414\n",
       "6  previous  0.007781\n",
       "2       day  0.004332\n",
       "5     pdays  0.003183\n",
       "1   balance -0.001415\n",
       "0       age -0.002299\n",
       "4  campaign -0.003802"
      ]
     },
     "execution_count": 166,
     "metadata": {},
     "output_type": "execute_result"
    }
   ],
   "source": [
    "from sklearn.inspection import permutation_importance\n",
    "r = permutation_importance(logreg_grid, X_test, y_test, n_repeats = 10, random_state = 123)\n",
    "pd.DataFrame({\"Variable\":X.columns, \"Score\":r.importances_mean}).sort_values(by = \"Score\", ascending = False)"
   ]
  },
  {
   "cell_type": "markdown",
   "id": "334d4817",
   "metadata": {},
   "source": [
    "**Decision Tree**"
   ]
  },
  {
   "cell_type": "code",
   "execution_count": 109,
   "id": "6525bfac",
   "metadata": {},
   "outputs": [],
   "source": [
    "from sklearn.tree import DecisionTreeClassifier\n",
    "dtree = DecisionTreeClassifier(random_state=42, class_weight='balanced').fit(X_train, y_train)"
   ]
  },
  {
   "cell_type": "code",
   "execution_count": 110,
   "id": "0d806da3",
   "metadata": {},
   "outputs": [
    {
     "name": "stdout",
     "output_type": "stream",
     "text": [
      "Classification report for balanced classes \n",
      "               precision    recall  f1-score   support\n",
      "\n",
      "           0       0.92      0.93      0.93      1006\n",
      "           1       0.38      0.33      0.35       125\n",
      "\n",
      "    accuracy                           0.87      1131\n",
      "   macro avg       0.65      0.63      0.64      1131\n",
      "weighted avg       0.86      0.87      0.86      1131\n",
      "\n",
      "DTree Train MSE: 0.0\n",
      "DTree Test MSE: 0.134394341290893\n"
     ]
    }
   ],
   "source": [
    "dtree_train_preds = dtree.predict(X_train)\n",
    "dtree_test_preds = dtree.predict(X_test)\n",
    "\n",
    "print('Classification report for balanced classes \\n',classification_report(y_test,dtree_test_preds))\n",
    "\n",
    "\n",
    "dtree_test_mse = mean_squared_error(dtree_test_preds, y_test)\n",
    "dtree_train_mse = mean_squared_error(dtree_train_preds, y_train)\n",
    "\n",
    "print(\"DTree Train MSE:\", dtree_train_mse)\n",
    "print(\"DTree Test MSE:\", dtree_test_mse)"
   ]
  },
  {
   "cell_type": "code",
   "execution_count": 111,
   "id": "f2906c3c",
   "metadata": {},
   "outputs": [
    {
     "data": {
      "text/plain": [
       "{'ccp_alpha': 0.0,\n",
       " 'class_weight': 'balanced',\n",
       " 'criterion': 'gini',\n",
       " 'max_depth': None,\n",
       " 'max_features': None,\n",
       " 'max_leaf_nodes': None,\n",
       " 'min_impurity_decrease': 0.0,\n",
       " 'min_samples_leaf': 1,\n",
       " 'min_samples_split': 2,\n",
       " 'min_weight_fraction_leaf': 0.0,\n",
       " 'random_state': 42,\n",
       " 'splitter': 'best'}"
      ]
     },
     "execution_count": 111,
     "metadata": {},
     "output_type": "execute_result"
    }
   ],
   "source": [
    "dtree.get_params()"
   ]
  },
  {
   "cell_type": "code",
   "execution_count": 112,
   "id": "6a021a5d",
   "metadata": {},
   "outputs": [
    {
     "name": "stderr",
     "output_type": "stream",
     "text": [
      "D:\\ProgramData\\Anaconda3\\lib\\site-packages\\sklearn\\utils\\deprecation.py:87: FutureWarning: Function plot_confusion_matrix is deprecated; Function `plot_confusion_matrix` is deprecated in 1.0 and will be removed in 1.2. Use one of the class methods: ConfusionMatrixDisplay.from_predictions or ConfusionMatrixDisplay.from_estimator.\n",
      "  warnings.warn(msg, category=FutureWarning)\n"
     ]
    },
    {
     "data": {
      "text/plain": [
       "<sklearn.metrics._plot.confusion_matrix.ConfusionMatrixDisplay at 0x211e51e2d30>"
      ]
     },
     "execution_count": 112,
     "metadata": {},
     "output_type": "execute_result"
    },
    {
     "data": {
      "image/png": "[encoded data removed]",
      "text/plain": [
       "<Figure size 432x288 with 2 Axes>"
      ]
     },
     "metadata": {
      "needs_background": "light"
     },
     "output_type": "display_data"
    }
   ],
   "source": [
    "plot_confusion_matrix(dtree,X_test,y_test)"
   ]
  },
  {
   "cell_type": "code",
   "execution_count": 113,
   "id": "56e6384d",
   "metadata": {},
   "outputs": [
    {
     "name": "stdout",
     "output_type": "stream",
     "text": [
      "Mean Fit Time:  0.0736043930053711\n",
      "LogReg Train Score: 0.8563421828908555\n",
      "LogReg Test Score: 0.847922192749779\n",
      " \n",
      "Accuracy = \t 86.5605658709\n",
      "Precision = \t 37.6146788991\n",
      "Recall = \t 32.8000000000\n",
      "Specificity = \t 93.2405566600\n",
      "Train MSE: 0.0\n",
      "Test MSE: 0.134394341290893\n"
     ]
    }
   ],
   "source": [
    "splitter = ['best']\n",
    "\n",
    "criterion = ['gini']\n",
    "ccp_alphas = [10, 1.0, 0.1, 0.01]\n",
    "grid = dict(splitter=splitter,criterion=criterion,ccp_alpha=ccp_alphas)\n",
    "\n",
    "dtree_grid = GridSearchCV(dtree, param_grid=grid, n_jobs=-1, scoring='accuracy',error_score=0).fit(X_train, y_train)\n",
    "dtree_cv_res = dtree_grid.cv_results_\n",
    "\n",
    "dtree_mean_fit_time = dtree_cv_res['mean_fit_time'][0]\n",
    "\n",
    "print(\"Mean Fit Time: \", dtree_mean_fit_time)\n",
    "\n",
    "dtree_grid_score_train = dtree_grid.score(X_train, y_train)\n",
    "dtree_grid_score_test = dtree_grid.score(X_test, y_test)\n",
    "print(\"LogReg Train Score:\", dtree_grid_score_train)\n",
    "print(\"LogReg Test Score:\", dtree_grid_score_test)\n",
    "print(\" \")\n",
    "\n",
    "dtree_acc = (938+41)/(938+68+84+41)*100\n",
    "dtree_pre = (41)/(41+68)*100\n",
    "dtree_rec = (41)/(41+84)*100\n",
    "dtree_spe = (938)/(938+68)*100\n",
    "\n",
    "\n",
    "print(\"Accuracy = \\t\", \"{:.10f}\".format(dtree_acc))\n",
    "print(\"Precision = \\t\", \"{:.10f}\".format(dtree_pre))\n",
    "print(\"Recall = \\t\", \"{:.10f}\".format(dtree_rec))\n",
    "print(\"Specificity = \\t\", \"{:.10f}\".format(dtree_spe))\n",
    "\n",
    "print(\"Train MSE:\", dtree_train_mse)\n",
    "print(\"Test MSE:\", dtree_test_mse)"
   ]
  },
  {
   "cell_type": "code",
   "execution_count": 167,
   "id": "cef40d68",
   "metadata": {},
   "outputs": [
    {
     "data": {
      "text/html": [
       "<div>\n",
       "<style scoped>\n",
       "    .dataframe tbody tr th:only-of-type {\n",
       "        vertical-align: middle;\n",
       "    }\n",
       "\n",
       "    .dataframe tbody tr th {\n",
       "        vertical-align: top;\n",
       "    }\n",
       "\n",
       "    .dataframe thead th {\n",
       "        text-align: right;\n",
       "    }\n",
       "</style>\n",
       "<table border=\"1\" class=\"dataframe\">\n",
       "  <thead>\n",
       "    <tr style=\"text-align: right;\">\n",
       "      <th></th>\n",
       "      <th>Variable</th>\n",
       "      <th>Score</th>\n",
       "    </tr>\n",
       "  </thead>\n",
       "  <tbody>\n",
       "    <tr>\n",
       "      <th>3</th>\n",
       "      <td>duration</td>\n",
       "      <td>0.076304</td>\n",
       "    </tr>\n",
       "    <tr>\n",
       "      <th>5</th>\n",
       "      <td>pdays</td>\n",
       "      <td>0.016357</td>\n",
       "    </tr>\n",
       "    <tr>\n",
       "      <th>0</th>\n",
       "      <td>age</td>\n",
       "      <td>0.004156</td>\n",
       "    </tr>\n",
       "    <tr>\n",
       "      <th>1</th>\n",
       "      <td>balance</td>\n",
       "      <td>0.000000</td>\n",
       "    </tr>\n",
       "    <tr>\n",
       "      <th>2</th>\n",
       "      <td>day</td>\n",
       "      <td>0.000000</td>\n",
       "    </tr>\n",
       "    <tr>\n",
       "      <th>4</th>\n",
       "      <td>campaign</td>\n",
       "      <td>0.000000</td>\n",
       "    </tr>\n",
       "    <tr>\n",
       "      <th>6</th>\n",
       "      <td>previous</td>\n",
       "      <td>0.000000</td>\n",
       "    </tr>\n",
       "  </tbody>\n",
       "</table>\n",
       "</div>"
      ],
      "text/plain": [
       "   Variable     Score\n",
       "3  duration  0.076304\n",
       "5     pdays  0.016357\n",
       "0       age  0.004156\n",
       "1   balance  0.000000\n",
       "2       day  0.000000\n",
       "4  campaign  0.000000\n",
       "6  previous  0.000000"
      ]
     },
     "execution_count": 167,
     "metadata": {},
     "output_type": "execute_result"
    }
   ],
   "source": [
    "r = permutation_importance(dtree_grid, X_test, y_test, n_repeats = 10, random_state = 123)\n",
    "pd.DataFrame({\"Variable\":X.columns, \"Score\":r.importances_mean}).sort_values(by = \"Score\", ascending = False)"
   ]
  },
  {
   "cell_type": "markdown",
   "id": "427e7423",
   "metadata": {},
   "source": [
    "**KNearestNeighbor**"
   ]
  },
  {
   "cell_type": "code",
   "execution_count": 114,
   "id": "26acdf3f",
   "metadata": {},
   "outputs": [],
   "source": [
    "from sklearn.neighbors import KNeighborsClassifier\n",
    "knn = KNeighborsClassifier().fit(X_train, y_train)"
   ]
  },
  {
   "cell_type": "code",
   "execution_count": 115,
   "id": "d0ed45ae",
   "metadata": {},
   "outputs": [
    {
     "name": "stdout",
     "output_type": "stream",
     "text": [
      "Classification report for balanced classes \n",
      "               precision    recall  f1-score   support\n",
      "\n",
      "           0       0.91      0.96      0.93      1006\n",
      "           1       0.38      0.22      0.28       125\n",
      "\n",
      "    accuracy                           0.87      1131\n",
      "   macro avg       0.64      0.59      0.60      1131\n",
      "weighted avg       0.85      0.87      0.86      1131\n",
      "\n",
      "KNN Train MSE: 0.10088495575221239\n",
      "KNN Test MSE: 0.125552608311229\n"
     ]
    }
   ],
   "source": [
    "knn_train_preds = knn.predict(X_train)\n",
    "knn_test_preds = knn.predict(X_test)\n",
    "\n",
    "print('Classification report for balanced classes \\n',classification_report(y_test,knn_test_preds))\n",
    "\n",
    "\n",
    "knn_test_mse = mean_squared_error(knn_test_preds, y_test)\n",
    "knn_train_mse = mean_squared_error(knn_train_preds, y_train)\n",
    "\n",
    "print(\"KNN Train MSE:\", knn_train_mse)\n",
    "print(\"KNN Test MSE:\", knn_test_mse)"
   ]
  },
  {
   "cell_type": "code",
   "execution_count": 116,
   "id": "7639ed45",
   "metadata": {},
   "outputs": [
    {
     "data": {
      "text/plain": [
       "{'algorithm': 'auto',\n",
       " 'leaf_size': 30,\n",
       " 'metric': 'minkowski',\n",
       " 'metric_params': None,\n",
       " 'n_jobs': None,\n",
       " 'n_neighbors': 5,\n",
       " 'p': 2,\n",
       " 'weights': 'uniform'}"
      ]
     },
     "execution_count": 116,
     "metadata": {},
     "output_type": "execute_result"
    }
   ],
   "source": [
    "knn.get_params()"
   ]
  },
  {
   "cell_type": "code",
   "execution_count": 117,
   "id": "6099b8f5",
   "metadata": {},
   "outputs": [
    {
     "name": "stderr",
     "output_type": "stream",
     "text": [
      "D:\\ProgramData\\Anaconda3\\lib\\site-packages\\sklearn\\utils\\deprecation.py:87: FutureWarning: Function plot_confusion_matrix is deprecated; Function `plot_confusion_matrix` is deprecated in 1.0 and will be removed in 1.2. Use one of the class methods: ConfusionMatrixDisplay.from_predictions or ConfusionMatrixDisplay.from_estimator.\n",
      "  warnings.warn(msg, category=FutureWarning)\n"
     ]
    },
    {
     "data": {
      "text/plain": [
       "<sklearn.metrics._plot.confusion_matrix.ConfusionMatrixDisplay at 0x211e71e7e80>"
      ]
     },
     "execution_count": 117,
     "metadata": {},
     "output_type": "execute_result"
    },
    {
     "data": {
      "image/png": "[encoded data removed]",
      "text/plain": [
       "<Figure size 432x288 with 2 Axes>"
      ]
     },
     "metadata": {
      "needs_background": "light"
     },
     "output_type": "display_data"
    }
   ],
   "source": [
    "plot_confusion_matrix(knn,X_test,y_test)"
   ]
  },
  {
   "cell_type": "code",
   "execution_count": 147,
   "id": "f86a266e",
   "metadata": {},
   "outputs": [
    {
     "name": "stdout",
     "output_type": "stream",
     "text": [
      "Mean Fit Time:  0.023138713836669923\n",
      "KNN Train Score: 0.8929203539823009\n",
      "KNN Test Score: 0.8903625110521662\n",
      " \n",
      "Accuracy = \t 87.4447391689\n",
      "Precision = \t 38.0281690141\n",
      "Recall = \t 21.6000000000\n",
      "Specificity = \t 95.6262425447\n",
      " \n",
      "Train MSE: 0.10088495575221239\n",
      "Test MSE: 0.125552608311229\n"
     ]
    }
   ],
   "source": [
    "leaf_size = [30,20,10]\n",
    "\n",
    "metric = ['minkowski']\n",
    "n_neighbors = [10, 5, 3, 2]\n",
    "grid = dict(leaf_size=leaf_size,metric=metric,n_neighbors=n_neighbors)\n",
    "\n",
    "knn_grid = GridSearchCV(knn, param_grid=grid, n_jobs=-1, scoring='accuracy',error_score=0).fit(X_train, y_train)\n",
    "knn_cv_res = knn_grid.cv_results_\n",
    "\n",
    "knn_mean_fit_time = knn_cv_res['mean_fit_time'][0]\n",
    "print(\"Mean Fit Time: \", knn_mean_fit_time)\n",
    "\n",
    "knn_grid_score_train = knn_grid.score(X_train, y_train)\n",
    "knn_grid_score_test = knn_grid.score(X_test, y_test)\n",
    "print(\"KNN Train Score:\", knn_grid_score_train)\n",
    "print(\"KNN Test Score:\", knn_grid_score_test)\n",
    "print(\" \")\n",
    "\n",
    "knn_acc = (962+27)/(962+44+98+27)*100\n",
    "knn_pre = (27)/(27+44)*100\n",
    "knn_rec = (27)/(27+98)*100\n",
    "knn_spe = (962)/(962+44)*100\n",
    "\n",
    "\n",
    "print(\"Accuracy = \\t\", \"{:.10f}\".format(knn_acc))\n",
    "print(\"Precision = \\t\", \"{:.10f}\".format(knn_pre))\n",
    "print(\"Recall = \\t\", \"{:.10f}\".format(knn_rec))\n",
    "print(\"Specificity = \\t\", \"{:.10f}\".format(knn_spe))\n",
    "print(\" \")\n",
    "print(\"Train MSE:\", knn_train_mse)\n",
    "print(\"Test MSE:\", knn_test_mse)\n"
   ]
  },
  {
   "cell_type": "code",
   "execution_count": 168,
   "id": "866d13e8",
   "metadata": {},
   "outputs": [
    {
     "data": {
      "text/html": [
       "<div>\n",
       "<style scoped>\n",
       "    .dataframe tbody tr th:only-of-type {\n",
       "        vertical-align: middle;\n",
       "    }\n",
       "\n",
       "    .dataframe tbody tr th {\n",
       "        vertical-align: top;\n",
       "    }\n",
       "\n",
       "    .dataframe thead th {\n",
       "        text-align: right;\n",
       "    }\n",
       "</style>\n",
       "<table border=\"1\" class=\"dataframe\">\n",
       "  <thead>\n",
       "    <tr style=\"text-align: right;\">\n",
       "      <th></th>\n",
       "      <th>Variable</th>\n",
       "      <th>Score</th>\n",
       "    </tr>\n",
       "  </thead>\n",
       "  <tbody>\n",
       "    <tr>\n",
       "      <th>3</th>\n",
       "      <td>duration</td>\n",
       "      <td>0.025199</td>\n",
       "    </tr>\n",
       "    <tr>\n",
       "      <th>5</th>\n",
       "      <td>pdays</td>\n",
       "      <td>0.002741</td>\n",
       "    </tr>\n",
       "    <tr>\n",
       "      <th>0</th>\n",
       "      <td>age</td>\n",
       "      <td>0.000000</td>\n",
       "    </tr>\n",
       "    <tr>\n",
       "      <th>2</th>\n",
       "      <td>day</td>\n",
       "      <td>0.000000</td>\n",
       "    </tr>\n",
       "    <tr>\n",
       "      <th>4</th>\n",
       "      <td>campaign</td>\n",
       "      <td>0.000000</td>\n",
       "    </tr>\n",
       "    <tr>\n",
       "      <th>6</th>\n",
       "      <td>previous</td>\n",
       "      <td>0.000000</td>\n",
       "    </tr>\n",
       "    <tr>\n",
       "      <th>1</th>\n",
       "      <td>balance</td>\n",
       "      <td>-0.003271</td>\n",
       "    </tr>\n",
       "  </tbody>\n",
       "</table>\n",
       "</div>"
      ],
      "text/plain": [
       "   Variable     Score\n",
       "3  duration  0.025199\n",
       "5     pdays  0.002741\n",
       "0       age  0.000000\n",
       "2       day  0.000000\n",
       "4  campaign  0.000000\n",
       "6  previous  0.000000\n",
       "1   balance -0.003271"
      ]
     },
     "execution_count": 168,
     "metadata": {},
     "output_type": "execute_result"
    }
   ],
   "source": [
    "r = permutation_importance(knn_grid, X_test, y_test, n_repeats = 10, random_state = 123)\n",
    "pd.DataFrame({\"Variable\":X.columns, \"Score\":r.importances_mean}).sort_values(by = \"Score\", ascending = False)"
   ]
  },
  {
   "cell_type": "markdown",
   "id": "17a66e70",
   "metadata": {},
   "source": [
    "**Support Vector Machines**"
   ]
  },
  {
   "cell_type": "code",
   "execution_count": 123,
   "id": "e20481cb",
   "metadata": {},
   "outputs": [],
   "source": [
    "from sklearn.svm import SVC\n",
    "svc = SVC(class_weight='balanced').fit(X_train, y_train)"
   ]
  },
  {
   "cell_type": "code",
   "execution_count": 125,
   "id": "88288f3f",
   "metadata": {},
   "outputs": [
    {
     "name": "stdout",
     "output_type": "stream",
     "text": [
      "Classification report for balanced classes \n",
      "               precision    recall  f1-score   support\n",
      "\n",
      "           0       0.95      0.78      0.86      1006\n",
      "           1       0.27      0.66      0.39       125\n",
      "\n",
      "    accuracy                           0.77      1131\n",
      "   macro avg       0.61      0.72      0.62      1131\n",
      "weighted avg       0.87      0.77      0.81      1131\n",
      "\n",
      "SVC Train MSE: 0.2336283185840708\n",
      "SVC Test MSE: 0.23165340406719717\n"
     ]
    }
   ],
   "source": [
    "svc_train_preds = svc.predict(X_train)\n",
    "svc_test_preds = svc.predict(X_test)\n",
    "\n",
    "print('Classification report for balanced classes \\n',classification_report(y_test,svc_test_preds))\n",
    "\n",
    "\n",
    "svc_test_mse = mean_squared_error(svc_test_preds, y_test)\n",
    "svc_train_mse = mean_squared_error(svc_train_preds, y_train)\n",
    "\n",
    "print(\"SVC Train MSE:\", svc_train_mse)\n",
    "print(\"SVC Test MSE:\", svc_test_mse)"
   ]
  },
  {
   "cell_type": "code",
   "execution_count": 126,
   "id": "e8c1603e",
   "metadata": {},
   "outputs": [
    {
     "data": {
      "text/plain": [
       "{'C': 1.0,\n",
       " 'break_ties': False,\n",
       " 'cache_size': 200,\n",
       " 'class_weight': 'balanced',\n",
       " 'coef0': 0.0,\n",
       " 'decision_function_shape': 'ovr',\n",
       " 'degree': 3,\n",
       " 'gamma': 'scale',\n",
       " 'kernel': 'rbf',\n",
       " 'max_iter': -1,\n",
       " 'probability': False,\n",
       " 'random_state': None,\n",
       " 'shrinking': True,\n",
       " 'tol': 0.001,\n",
       " 'verbose': False}"
      ]
     },
     "execution_count": 126,
     "metadata": {},
     "output_type": "execute_result"
    }
   ],
   "source": [
    "svc.get_params()"
   ]
  },
  {
   "cell_type": "code",
   "execution_count": 127,
   "id": "67e15015",
   "metadata": {},
   "outputs": [
    {
     "name": "stderr",
     "output_type": "stream",
     "text": [
      "D:\\ProgramData\\Anaconda3\\lib\\site-packages\\sklearn\\utils\\deprecation.py:87: FutureWarning: Function plot_confusion_matrix is deprecated; Function `plot_confusion_matrix` is deprecated in 1.0 and will be removed in 1.2. Use one of the class methods: ConfusionMatrixDisplay.from_predictions or ConfusionMatrixDisplay.from_estimator.\n",
      "  warnings.warn(msg, category=FutureWarning)\n"
     ]
    },
    {
     "data": {
      "text/plain": [
       "<sklearn.metrics._plot.confusion_matrix.ConfusionMatrixDisplay at 0x211e731c760>"
      ]
     },
     "execution_count": 127,
     "metadata": {},
     "output_type": "execute_result"
    },
    {
     "data": {
      "image/png": "[encoded data removed]",
      "text/plain": [
       "<Figure size 432x288 with 2 Axes>"
      ]
     },
     "metadata": {
      "needs_background": "light"
     },
     "output_type": "display_data"
    }
   ],
   "source": [
    "plot_confusion_matrix(svc,X_test,y_test)"
   ]
  },
  {
   "cell_type": "code",
   "execution_count": 129,
   "id": "470e3301",
   "metadata": {},
   "outputs": [
    {
     "name": "stdout",
     "output_type": "stream",
     "text": [
      "Mean Fit Time:  2.0264134407043457\n",
      "LogReg Train Score: 0.779646017699115\n",
      "LogReg Test Score: 0.7904509283819628\n",
      " \n",
      "Accuracy = \t 76.8346595933\n",
      "Precision = \t 27.3927392739\n",
      "Recall = \t 66.4000000000\n",
      "Specificity = \t 78.1312127237\n",
      " \n",
      "SVC Train MSE: 0.2336283185840708\n",
      "SVC Test MSE: 0.23165340406719717\n"
     ]
    }
   ],
   "source": [
    "kernel = ['rbf']\n",
    "\n",
    "decision_function_shape = ['ovr']\n",
    "c_values = [10, 1.0, 0.1, 0.01]\n",
    "grid = dict(kernel=kernel,decision_function_shape=decision_function_shape,C=c_values)\n",
    "\n",
    "svc_grid = GridSearchCV(svc, param_grid=grid, n_jobs=-1, scoring='accuracy',error_score=0).fit(X_train, y_train)\n",
    "svc_cv_res = svc_grid.cv_results_\n",
    "\n",
    "svc_mean_fit_time = svc_cv_res['mean_fit_time'][0]\n",
    "print(\"Mean Fit Time: \", svc_mean_fit_time)\n",
    "\n",
    "svc_grid_score_train = svc_grid.score(X_train, y_train)\n",
    "svc_grid_score_test = svc_grid.score(X_test, y_test)\n",
    "print(\"LogReg Train Score:\", svc_grid_score_train)\n",
    "print(\"LogReg Test Score:\", svc_grid_score_test)\n",
    "print(\" \")\n",
    "\n",
    "svc_acc = (786+83)/(786+220+42+83)*100\n",
    "svc_pre = (83)/(83+220)*100\n",
    "svc_rec = (83)/(83+42)*100\n",
    "svc_spe = (786)/(786+220)*100\n",
    "\n",
    "\n",
    "print(\"Accuracy = \\t\", \"{:.10f}\".format(svc_acc))\n",
    "print(\"Precision = \\t\", \"{:.10f}\".format(svc_pre))\n",
    "print(\"Recall = \\t\", \"{:.10f}\".format(svc_rec))\n",
    "print(\"Specificity = \\t\", \"{:.10f}\".format(svc_spe))\n",
    "print(\" \")\n",
    "print(\"SVC Train MSE:\", svc_train_mse)\n",
    "print(\"SVC Test MSE:\", svc_test_mse)"
   ]
  },
  {
   "cell_type": "code",
   "execution_count": 169,
   "id": "e5d60207",
   "metadata": {},
   "outputs": [
    {
     "data": {
      "text/html": [
       "<div>\n",
       "<style scoped>\n",
       "    .dataframe tbody tr th:only-of-type {\n",
       "        vertical-align: middle;\n",
       "    }\n",
       "\n",
       "    .dataframe tbody tr th {\n",
       "        vertical-align: top;\n",
       "    }\n",
       "\n",
       "    .dataframe thead th {\n",
       "        text-align: right;\n",
       "    }\n",
       "</style>\n",
       "<table border=\"1\" class=\"dataframe\">\n",
       "  <thead>\n",
       "    <tr style=\"text-align: right;\">\n",
       "      <th></th>\n",
       "      <th>Variable</th>\n",
       "      <th>Score</th>\n",
       "    </tr>\n",
       "  </thead>\n",
       "  <tbody>\n",
       "    <tr>\n",
       "      <th>3</th>\n",
       "      <td>duration</td>\n",
       "      <td>0.085500</td>\n",
       "    </tr>\n",
       "    <tr>\n",
       "      <th>5</th>\n",
       "      <td>pdays</td>\n",
       "      <td>0.009107</td>\n",
       "    </tr>\n",
       "    <tr>\n",
       "      <th>1</th>\n",
       "      <td>balance</td>\n",
       "      <td>0.001680</td>\n",
       "    </tr>\n",
       "    <tr>\n",
       "      <th>0</th>\n",
       "      <td>age</td>\n",
       "      <td>0.000707</td>\n",
       "    </tr>\n",
       "    <tr>\n",
       "      <th>2</th>\n",
       "      <td>day</td>\n",
       "      <td>0.000000</td>\n",
       "    </tr>\n",
       "    <tr>\n",
       "      <th>6</th>\n",
       "      <td>previous</td>\n",
       "      <td>0.000000</td>\n",
       "    </tr>\n",
       "    <tr>\n",
       "      <th>4</th>\n",
       "      <td>campaign</td>\n",
       "      <td>-0.000088</td>\n",
       "    </tr>\n",
       "  </tbody>\n",
       "</table>\n",
       "</div>"
      ],
      "text/plain": [
       "   Variable     Score\n",
       "3  duration  0.085500\n",
       "5     pdays  0.009107\n",
       "1   balance  0.001680\n",
       "0       age  0.000707\n",
       "2       day  0.000000\n",
       "6  previous  0.000000\n",
       "4  campaign -0.000088"
      ]
     },
     "execution_count": 169,
     "metadata": {},
     "output_type": "execute_result"
    }
   ],
   "source": [
    "r = permutation_importance(svc_grid, X_test, y_test, n_repeats = 10, random_state = 123)\n",
    "pd.DataFrame({\"Variable\":X.columns, \"Score\":r.importances_mean}).sort_values(by = \"Score\", ascending = False)"
   ]
  },
  {
   "cell_type": "markdown",
   "id": "934f24ad",
   "metadata": {},
   "source": [
    "#### **Data Table of Values**"
   ]
  },
  {
   "cell_type": "code",
   "execution_count": 130,
   "id": "ba276a87",
   "metadata": {},
   "outputs": [],
   "source": [
    "val_df = pd.DataFrame(columns = ['model','train score','test score','Mean fit time', 'Accuracy', 'Precision', 'Recall', 'Specificity', 'Train MSE', 'Test MSE'])"
   ]
  },
  {
   "cell_type": "code",
   "execution_count": 131,
   "id": "bca18530",
   "metadata": {},
   "outputs": [],
   "source": [
    "val_df.loc[len(val_df.index)] = ['Logistic Regression', logreg_grid_score_train, logreg_grid_score_test, logreg_mean_fit_time, logreg_acc, logreg_pre, logreg_rec, logreg_spe, train_mse, test_mse] \n",
    "val_df.loc[len(val_df.index)] = ['Decision Tree', dtree_grid_score_train, dtree_grid_score_test, dtree_mean_fit_time, dtree_acc, dtree_pre, dtree_rec, dtree_spe, dtree_train_mse, dtree_test_mse]\n",
    "val_df.loc[len(val_df.index)] = ['KNearestNeighbors', knn_grid_score_train, knn_grid_score_test, knn_mean_fit_time, knn_acc, knn_pre, knn_rec, knn_spe, knn_train_mse, knn_test_mse]\n",
    "val_df.loc[len(val_df.index)] = ['Support Vector Machine', svc_grid_score_train, svc_grid_score_test, svc_mean_fit_time, svc_acc, svc_pre, svc_rec, svc_spe, svc_train_mse, svc_test_mse]\n"
   ]
  },
  {
   "cell_type": "code",
   "execution_count": 132,
   "id": "14c2ae33",
   "metadata": {},
   "outputs": [
    {
     "data": {
      "text/html": [
       "<div>\n",
       "<style scoped>\n",
       "    .dataframe tbody tr th:only-of-type {\n",
       "        vertical-align: middle;\n",
       "    }\n",
       "\n",
       "    .dataframe tbody tr th {\n",
       "        vertical-align: top;\n",
       "    }\n",
       "\n",
       "    .dataframe thead th {\n",
       "        text-align: right;\n",
       "    }\n",
       "</style>\n",
       "<table border=\"1\" class=\"dataframe\">\n",
       "  <thead>\n",
       "    <tr style=\"text-align: right;\">\n",
       "      <th></th>\n",
       "      <th>model</th>\n",
       "      <th>train score</th>\n",
       "      <th>test score</th>\n",
       "      <th>Mean fit time</th>\n",
       "      <th>Accuracy</th>\n",
       "      <th>Precision</th>\n",
       "      <th>Recall</th>\n",
       "      <th>Specificity</th>\n",
       "      <th>Train MSE</th>\n",
       "      <th>Test MSE</th>\n",
       "    </tr>\n",
       "  </thead>\n",
       "  <tbody>\n",
       "    <tr>\n",
       "      <th>0</th>\n",
       "      <td>Logistic Regression</td>\n",
       "      <td>0.754572</td>\n",
       "      <td>0.755968</td>\n",
       "      <td>0.186272</td>\n",
       "      <td>76.215738</td>\n",
       "      <td>28.443114</td>\n",
       "      <td>76.0</td>\n",
       "      <td>76.242545</td>\n",
       "      <td>0.242478</td>\n",
       "      <td>0.237843</td>\n",
       "    </tr>\n",
       "    <tr>\n",
       "      <th>1</th>\n",
       "      <td>Decision Tree</td>\n",
       "      <td>0.856342</td>\n",
       "      <td>0.847922</td>\n",
       "      <td>0.073604</td>\n",
       "      <td>86.560566</td>\n",
       "      <td>37.614679</td>\n",
       "      <td>32.8</td>\n",
       "      <td>93.240557</td>\n",
       "      <td>0.000000</td>\n",
       "      <td>0.134394</td>\n",
       "    </tr>\n",
       "    <tr>\n",
       "      <th>2</th>\n",
       "      <td>KNearestNeighbors</td>\n",
       "      <td>0.892920</td>\n",
       "      <td>0.890363</td>\n",
       "      <td>0.022940</td>\n",
       "      <td>87.444739</td>\n",
       "      <td>38.028169</td>\n",
       "      <td>21.6</td>\n",
       "      <td>95.626243</td>\n",
       "      <td>0.100885</td>\n",
       "      <td>0.125553</td>\n",
       "    </tr>\n",
       "    <tr>\n",
       "      <th>3</th>\n",
       "      <td>Support Vector Machine</td>\n",
       "      <td>0.779646</td>\n",
       "      <td>0.790451</td>\n",
       "      <td>2.026413</td>\n",
       "      <td>76.834660</td>\n",
       "      <td>27.392739</td>\n",
       "      <td>66.4</td>\n",
       "      <td>78.131213</td>\n",
       "      <td>0.233628</td>\n",
       "      <td>0.231653</td>\n",
       "    </tr>\n",
       "  </tbody>\n",
       "</table>\n",
       "</div>"
      ],
      "text/plain": [
       "                    model  train score  test score  Mean fit time   Accuracy  \\\n",
       "0     Logistic Regression     0.754572    0.755968       0.186272  76.215738   \n",
       "1           Decision Tree     0.856342    0.847922       0.073604  86.560566   \n",
       "2       KNearestNeighbors     0.892920    0.890363       0.022940  87.444739   \n",
       "3  Support Vector Machine     0.779646    0.790451       2.026413  76.834660   \n",
       "\n",
       "   Precision  Recall  Specificity  Train MSE  Test MSE  \n",
       "0  28.443114    76.0    76.242545   0.242478  0.237843  \n",
       "1  37.614679    32.8    93.240557   0.000000  0.134394  \n",
       "2  38.028169    21.6    95.626243   0.100885  0.125553  \n",
       "3  27.392739    66.4    78.131213   0.233628  0.231653  "
      ]
     },
     "execution_count": 132,
     "metadata": {},
     "output_type": "execute_result"
    }
   ],
   "source": [
    "val_df"
   ]
  },
  {
   "cell_type": "markdown",
   "id": "bcf7cff7",
   "metadata": {},
   "source": [
    "### **Report**"
   ]
  },
  {
   "cell_type": "markdown",
   "id": "c4f616a2",
   "metadata": {},
   "source": [
    "The Analysis of the Logistic Regress, Decision Tree Classifier, KNeighborsClassifier and the Support Vector Machines was performed according to the following criteria\n",
    "1. Imbalance Class Handling\n",
    "2. Model Training Speed\n",
    "3. Interpretable Results\n",
    "\n",
    "Other criteria observed include\n",
    "1. Accuracy\n",
    "2. Precision\n",
    "3. Recall\n",
    "4. Specificity\n",
    "5. Mean Squared Error"
   ]
  },
  {
   "cell_type": "markdown",
   "id": "b02fe807",
   "metadata": {},
   "source": [
    "- **Logistic Regression Classifier**\n",
    "    - Handles Imbalanced Classes\n",
    "    - Speed of Training is moderately high at Mean Fit Time of 0.186\n",
    "    - Test Score performs slightly better than the Train Score\n",
    "    - Accuracy and Specificity are not too high at 76.2%.\n",
    "    - Precision is low at 28.4%\n",
    "    - Recall is high at 76%\n",
    "    - It appears to not overfit\n",
    "- **Decision Tree Classifier**\n",
    "    - Handles Imbalanced Classes\n",
    "    - Speed of Training is moderately high at Mean Fit Time of 0.07\n",
    "    - Accuracy and Specificity are very high at 86.5% and 93.2% respectively\n",
    "    - Train Score performs slightly better than the Test Score\n",
    "    - Precision is low at 37.6%\n",
    "    - Recall is low at 32.8%\n",
    "    - However, the Decision Tree Classifier appears to overfit with Train Score higher than Test Score\n",
    "- **KNearest Neighbors Classifier**\n",
    "    - KNN cannot handle Imbalanced classes\n",
    "    - Speed of Training is very high at Mean Fit Time of 0.02\n",
    "    - Accuracy and Specificity are very high at 87% and 95% respectively\n",
    "    - Train Score is slightly higher than the Test Score\n",
    "    - Precision is low at 38%\n",
    "    - Recall is low at 21%\n",
    "    - However, the KNNeighbors Classifier appears to slightly overfit with Train score higher than Test Score\n",
    "    \n",
    "- **Support Vector Machine**\n",
    "    - SVM handles Imbalanced classes\n",
    "    - Speed of Training is least at Mean Fit Time of 2.02\n",
    "    - Accuracy and Specificity are very high at 76.8% and 78% respectively\n",
    "    - Test Score is higher than Train Score\n",
    "    - Precision is 27.3%\n",
    "    - Recall is high at 66.%\n",
    "    - The SVC Classifier appears to not overfit with Test MSE lower than Train MSE\n",
    "\n",
    "### Selecting Best Model: Logistic Regression\n",
    "- The Logistic Regression Classifier was selected.\n",
    "- Support Vector Machine can also be used as a suitable model though the model fit time is higher at 2.0"
   ]
  },
  {
   "cell_type": "markdown",
   "id": "8fa7a072",
   "metadata": {},
   "source": [
    "### Findings"
   ]
  },
  {
   "cell_type": "markdown",
   "id": "14e5deeb",
   "metadata": {},
   "source": [
    "## Solution 1\n",
    "- The data represents 17 marketing campaigns"
   ]
  },
  {
   "cell_type": "code",
   "execution_count": null,
   "id": "c54a28fc",
   "metadata": {},
   "outputs": [],
   "source": []
  }
 ],
 "metadata": {
  "kernelspec": {
   "display_name": "Python 3 (ipykernel)",
   "language": "python",
   "name": "python3"
  },
  "language_info": {
   "codemirror_mode": {
    "name": "ipython",
    "version": 3
   },
   "file_extension": ".py",
   "mimetype": "text/x-python",
   "name": "python",
   "nbconvert_exporter": "python",
   "pygments_lexer": "ipython3",
   "version": "3.9.7"
  }
 },
 "nbformat": 4,
 "nbformat_minor": 5
}
